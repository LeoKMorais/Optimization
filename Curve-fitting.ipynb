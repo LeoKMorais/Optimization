{
 "cells": [
  {
   "cell_type": "markdown",
   "metadata": {},
   "source": [
    "Neste script serão aplicadas algumas ferramentas de 'curve fitting', método de otimização que busca encontrar os parâmetros que melhor aproximem uma curva a uma base de dados. "
   ]
  },
  {
   "cell_type": "markdown",
   "metadata": {},
   "source": [
    "Muitas vezes, ao lidarmos com dados, nos deparamos com situações nais quais é necessário traçar uma curva que se encaixe aos dados do problema. Este é o mesmo conceito dos modelos de regressão em Machine Learning, e para a maioria dos casos o uso destes é mais simples e indicado. O uso de ferramentas específicas de fitting se dá quando há a o conhecimento sobre qual a equação da função esperada, ou quando se trablha com funções complexas não-lineares. Partindo deste princípio, iniciaremos fazendo uso do módulo curve-fit, da biblioteca Scipy;"
   ]
  },
  {
   "cell_type": "code",
   "execution_count": null,
   "metadata": {},
   "outputs": [],
   "source": [
    "from scipy.optimize import curve_fit"
   ]
  },
  {
   "cell_type": "markdown",
   "metadata": {},
   "source": [
    "De início, será utilizada uma base composta de apenas duas variáveis conhecidas X e Y, obtida de forma sintética e com a distribuição ainda desconhecida"
   ]
  },
  {
   "cell_type": "code",
   "execution_count": null,
   "metadata": {},
   "outputs": [],
   "source": [
    "x="
   ]
  }
 ],
 "metadata": {
  "language_info": {
   "name": "python"
  },
  "orig_nbformat": 4
 },
 "nbformat": 4,
 "nbformat_minor": 2
}
